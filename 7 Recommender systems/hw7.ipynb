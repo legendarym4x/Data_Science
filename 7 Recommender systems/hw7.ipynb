{
  "nbformat": 4,
  "nbformat_minor": 0,
  "metadata": {
    "colab": {
      "provenance": []
    },
    "kernelspec": {
      "name": "python3",
      "display_name": "Python 3"
    },
    "language_info": {
      "name": "python"
    }
  },
  "cells": [
    {
      "cell_type": "code",
      "source": [
        "!pip install scikit-surprise"
      ],
      "metadata": {
        "colab": {
          "base_uri": "https://localhost:8080/"
        },
        "id": "IbG5q2d_6_af",
        "outputId": "605557d1-0e2e-4504-d00c-1148ed9b2184"
      },
      "execution_count": 1,
      "outputs": [
        {
          "output_type": "stream",
          "name": "stdout",
          "text": [
            "Collecting scikit-surprise\n",
            "  Downloading scikit-surprise-1.1.3.tar.gz (771 kB)\n",
            "\u001b[2K     \u001b[90m━━━━━━━━━━━━━━━━━━━━━━━━━━━━━━━━━━━━━━━━\u001b[0m \u001b[32m772.0/772.0 kB\u001b[0m \u001b[31m4.3 MB/s\u001b[0m eta \u001b[36m0:00:00\u001b[0m\n",
            "\u001b[?25h  Preparing metadata (setup.py) ... \u001b[?25l\u001b[?25hdone\n",
            "Requirement already satisfied: joblib>=1.0.0 in /usr/local/lib/python3.10/dist-packages (from scikit-surprise) (1.4.0)\n",
            "Requirement already satisfied: numpy>=1.17.3 in /usr/local/lib/python3.10/dist-packages (from scikit-surprise) (1.25.2)\n",
            "Requirement already satisfied: scipy>=1.3.2 in /usr/local/lib/python3.10/dist-packages (from scikit-surprise) (1.11.4)\n",
            "Building wheels for collected packages: scikit-surprise\n",
            "  Building wheel for scikit-surprise (setup.py) ... \u001b[?25l\u001b[?25hdone\n",
            "  Created wheel for scikit-surprise: filename=scikit_surprise-1.1.3-cp310-cp310-linux_x86_64.whl size=3162990 sha256=b0b43c0b38edbe88d075eff026a3e08a6143a172ac0d55d8f6a17cfb0b08c513\n",
            "  Stored in directory: /root/.cache/pip/wheels/a5/ca/a8/4e28def53797fdc4363ca4af740db15a9c2f1595ebc51fb445\n",
            "Successfully built scikit-surprise\n",
            "Installing collected packages: scikit-surprise\n",
            "Successfully installed scikit-surprise-1.1.3\n"
          ]
        }
      ]
    },
    {
      "cell_type": "code",
      "execution_count": 2,
      "metadata": {
        "id": "CMzoubjV0rx4"
      },
      "outputs": [],
      "source": [
        "from surprise import SVD, SVDpp, NMF\n",
        "from surprise import Dataset, accuracy, Reader\n",
        "from surprise.model_selection import cross_validate, train_test_split, GridSearchCV"
      ]
    },
    {
      "cell_type": "code",
      "source": [
        "# Loading dataset\n",
        "data = Dataset.load_builtin('ml-100k')"
      ],
      "metadata": {
        "colab": {
          "base_uri": "https://localhost:8080/"
        },
        "id": "ph0BNFkr5VkU",
        "outputId": "7ccc52c1-5cdb-4b0e-c809-70d237b2c808"
      },
      "execution_count": 3,
      "outputs": [
        {
          "output_type": "stream",
          "name": "stdout",
          "text": [
            "Dataset ml-100k could not be found. Do you want to download it? [Y/n] y\n",
            "Trying to download dataset from https://files.grouplens.org/datasets/movielens/ml-100k.zip...\n",
            "Done! Dataset ml-100k has been saved to /root/.surprise_data/ml-100k\n"
          ]
        }
      ]
    },
    {
      "cell_type": "code",
      "source": [
        "# Use the famous SVD algorithm\n",
        "model = SVD()\n",
        "\n",
        "# Run 5-fold cross-validation and print results\n",
        "results_SVD = cross_validate(model, data, measures=['RMSE', 'MAE'], cv=5, verbose=True)"
      ],
      "metadata": {
        "colab": {
          "base_uri": "https://localhost:8080/"
        },
        "id": "7j5oynMQ8fyB",
        "outputId": "810a21cc-5eb4-461b-c57c-4c280aeaad7a"
      },
      "execution_count": 4,
      "outputs": [
        {
          "output_type": "stream",
          "name": "stdout",
          "text": [
            "Evaluating RMSE, MAE of algorithm SVD on 5 split(s).\n",
            "\n",
            "                  Fold 1  Fold 2  Fold 3  Fold 4  Fold 5  Mean    Std     \n",
            "RMSE (testset)    0.9265  0.9376  0.9398  0.9345  0.9358  0.9348  0.0045  \n",
            "MAE (testset)     0.7315  0.7355  0.7375  0.7389  0.7367  0.7360  0.0025  \n",
            "Fit time          1.04    1.01    1.61    1.03    1.02    1.14    0.23    \n",
            "Test time         0.10    0.18    0.16    0.24    0.12    0.16    0.05    \n"
          ]
        }
      ]
    },
    {
      "cell_type": "code",
      "source": [
        "# We divide the dataset into trainset and testset, test set is made of 25% of the ratings.\n",
        "trainset, testset = train_test_split(data, test_size=0.25)\n",
        "\n",
        "# We'll use the famous SVD algorithm.\n",
        "algo = SVD()\n",
        "\n",
        "# Train the algorithm on the trainset, and predict ratings for the testset\n",
        "algo.fit(trainset)\n",
        "predictions = algo.test(testset)\n",
        "\n",
        "# Then compute RMSE\n",
        "accuracy.rmse(predictions)"
      ],
      "metadata": {
        "colab": {
          "base_uri": "https://localhost:8080/"
        },
        "id": "EgBTtCI0_OQq",
        "outputId": "c8918b7d-a067-4c38-fdd8-cc3253c59304"
      },
      "execution_count": 5,
      "outputs": [
        {
          "output_type": "stream",
          "name": "stdout",
          "text": [
            "RMSE: 0.9433\n"
          ]
        },
        {
          "output_type": "execute_result",
          "data": {
            "text/plain": [
              "0.9433029186333015"
            ]
          },
          "metadata": {},
          "execution_count": 5
        }
      ]
    },
    {
      "cell_type": "code",
      "source": [
        "# We determine the best parameters n_epochs, lr_all and reg_all using GridSearchCV for the model SVD\n",
        "params = {'n_epochs': [5, 10, 15], 'lr_all': [0.002, 0.005, 0.01], 'reg_all': [0.02, 0.1, 0.2]}\n",
        "\n",
        "svd = SVD()\n",
        "\n",
        "grid_search = GridSearchCV(SVD, params, measures=['rmse', 'mae'], cv=3)\n",
        "\n",
        "grid_search.fit(data)\n",
        "\n",
        "print(\"Best parameters found:\", grid_search.best_params)\n",
        "print(\"Best RMSE:\", grid_search.best_score['rmse'])\n",
        "print(\"Best MAE:\", grid_search.best_score['mae'])"
      ],
      "metadata": {
        "colab": {
          "base_uri": "https://localhost:8080/"
        },
        "id": "JaSmtgWQLWUS",
        "outputId": "af1a5ea8-2cfe-4499-bf7d-397d35e2db6c"
      },
      "execution_count": 6,
      "outputs": [
        {
          "output_type": "stream",
          "name": "stdout",
          "text": [
            "Best parameters found: {'rmse': {'n_epochs': 15, 'lr_all': 0.01, 'reg_all': 0.1}, 'mae': {'n_epochs': 15, 'lr_all': 0.01, 'reg_all': 0.1}}\n",
            "Best RMSE: 0.9350993407914135\n",
            "Best MAE: 0.7409554266764684\n"
          ]
        }
      ]
    },
    {
      "cell_type": "code",
      "source": [
        "# Let's find the same parameters for the algorithm SVD++ (it takes more than 20 minutes)\n",
        "svdpp = SVDpp()\n",
        "\n",
        "grid_search_svdpp = GridSearchCV(SVDpp, params, measures=['rmse', 'mae'], cv=3)\n",
        "grid_search_svdpp.fit(data)\n",
        "\n",
        "print(\"Best parameters found for SVD++:\", grid_search_svdpp.best_params)\n",
        "print(\"Best RMSE for SVD++:\", grid_search_svdpp.best_score['rmse'])\n",
        "print(\"Best MAE for SVD++:\", grid_search_svdpp.best_score['mae'])"
      ],
      "metadata": {
        "id": "xxiH_plmHZWT",
        "colab": {
          "base_uri": "https://localhost:8080/"
        },
        "outputId": "69c44e44-4718-4077-b562-34923b28ab17"
      },
      "execution_count": 7,
      "outputs": [
        {
          "output_type": "stream",
          "name": "stdout",
          "text": [
            "Best parameters found for SVD++: {'rmse': {'n_epochs': 10, 'lr_all': 0.01, 'reg_all': 0.02}, 'mae': {'n_epochs': 10, 'lr_all': 0.01, 'reg_all': 0.02}}\n",
            "Best RMSE for SVD++: 0.9260243440090671\n",
            "Best MAE for SVD++: 0.7290413963217993\n"
          ]
        }
      ]
    },
    {
      "cell_type": "code",
      "source": [
        "# Let's find the same parameters for the Non-negative Matrix Factorization (NMF) algorithm\n",
        "nmf = NMF()\n",
        "\n",
        "param_nmf = {'n_factors': [5, 10, 15], 'n_epochs': [10, 15], 'reg_pu': [0.02, 0.1, 0.2], 'reg_qi': [0.02, 0.1, 0.2]}\n",
        "grid_search_nmf = GridSearchCV(NMF, param_nmf, measures=['rmse', 'mae'], cv=3)\n",
        "grid_search_nmf.fit(data)\n",
        "\n",
        "print(\"Best parameters found for NMF:\", grid_search_nmf.best_params)\n",
        "print(\"Best RMSE for NMF:\", grid_search_nmf.best_score['rmse'])\n",
        "print(\"Best MAE for NMF:\", grid_search_nmf.best_score['mae'])"
      ],
      "metadata": {
        "id": "_XrR4Ou5HZTi",
        "colab": {
          "base_uri": "https://localhost:8080/"
        },
        "outputId": "004f5767-6ca8-4003-ea6f-4237d50a3048"
      },
      "execution_count": 8,
      "outputs": [
        {
          "output_type": "stream",
          "name": "stdout",
          "text": [
            "Best parameters found for NMF: {'rmse': {'n_factors': 10, 'n_epochs': 15, 'reg_pu': 0.1, 'reg_qi': 0.2}, 'mae': {'n_factors': 5, 'n_epochs': 15, 'reg_pu': 0.2, 'reg_qi': 0.2}}\n",
            "Best RMSE for NMF: 0.963036309251342\n",
            "Best MAE for NMF: 0.7530540231009727\n"
          ]
        }
      ]
    },
    {
      "cell_type": "markdown",
      "source": [
        "Let's analyze the metrics that we can observe as a result of code execution:\n",
        "\n",
        "**RMSE Root Mean Squared Error** (testset): Root Mean Squared Error between actual and predicted ratings on the test data set. The smaller the value, the better.\n",
        "\n",
        "**MAE Mean Absolute Error** (testset): Mean absolute error between actual and predicted ratings on the test data set. The smaller the value, the better.\n",
        "\n",
        "**Fit time**: The time required to train the model on each section of data. This is usually measured in seconds.\n",
        "\n",
        "**Test time**: The time required to predict the ratings for the test data set. This is also usually measured in seconds.\n",
        "\n",
        "---\n",
        "\n",
        "*Having read the results, we can say that the SVD and SVD++ methods showed better results than the NMF method.\n",
        "SVD++ showed the best result, but it needs much more time to train the model and get the necessary data.*"
      ],
      "metadata": {
        "id": "oeWqTv8ksCI9"
      }
    }
  ]
}