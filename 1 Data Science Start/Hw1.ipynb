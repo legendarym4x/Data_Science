{
 "cells": [
  {
   "cell_type": "markdown",
   "id": "dfc0f8b6-ea6c-43b7-9b63-efce8f20bbf3",
   "metadata": {},
   "source": [
    "## Tasks"
   ]
  },
  {
   "cell_type": "markdown",
   "id": "656315ab-7181-4ebf-8b08-80b1fb797a91",
   "metadata": {},
   "source": [
    "### 1. Create a one-dimensional array (vector) with the first 10 natural numbers and output its value."
   ]
  },
  {
   "cell_type": "code",
   "execution_count": 1,
   "id": "e2e059b6-400f-43b6-b6b9-4e2bdb42e5e6",
   "metadata": {},
   "outputs": [
    {
     "name": "stdout",
     "output_type": "stream",
     "text": [
      "Vector:\n",
      " [ 1  2  3  4  5  6  7  8  9 10]\n"
     ]
    }
   ],
   "source": [
    "import numpy as np\n",
    "\n",
    "a = np.array([1, 2, 3, 4, 5, 6, 7, 8, 9, 10])\n",
    "print(\"Vector:\\n\", a)"
   ]
  },
  {
   "cell_type": "markdown",
   "id": "90cd0e30-125c-4529-bd72-73ad4eaa7311",
   "metadata": {},
   "source": [
    "### 2. Create a 3x3 two-dimensional array (matrix), fill it with zeros, and output its values."
   ]
  },
  {
   "cell_type": "code",
   "execution_count": 2,
   "id": "50a5b51e-eb5f-41d9-bf8a-f9ca12ef4e1c",
   "metadata": {},
   "outputs": [
    {
     "name": "stdout",
     "output_type": "stream",
     "text": [
      "Matrix:\n",
      " [[0 0 0]\n",
      " [0 0 0]\n",
      " [0 0 0]]\n"
     ]
    }
   ],
   "source": [
    "a = np.array([[0, 0, 0], [0, 0, 0], [0, 0, 0]])\n",
    "print(\"Matrix:\\n\", a)"
   ]
  },
  {
   "cell_type": "code",
   "execution_count": 3,
   "id": "3269d3dc-4a6e-4ecf-aa2a-34f5c7a0790b",
   "metadata": {},
   "outputs": [
    {
     "name": "stdout",
     "output_type": "stream",
     "text": [
      "Matrix:\n",
      " [[0 0 0]\n",
      " [0 0 0]\n",
      " [0 0 0]]\n"
     ]
    }
   ],
   "source": [
    "a = np.zeros((3, 3), int)\n",
    "print(\"Matrix:\\n\", a)"
   ]
  },
  {
   "cell_type": "markdown",
   "id": "b0084a9c-2f9a-4b78-bfe6-22085fc5df65",
   "metadata": {},
   "source": [
    "### 3. Create a 5x5 array, fill it with random integers from 1 to 10, and output its value."
   ]
  },
  {
   "cell_type": "code",
   "execution_count": 4,
   "id": "ed93cace-cb23-4faf-bf31-8b3bcb2a17a6",
   "metadata": {},
   "outputs": [
    {
     "name": "stdout",
     "output_type": "stream",
     "text": [
      "Matrix:\n",
      " [[ 7  3  1 10  6]\n",
      " [ 4  5  1  6  6]\n",
      " [ 8  3  2  1  2]\n",
      " [10  6  1  5  2]\n",
      " [ 9  7  1  3  1]]\n"
     ]
    }
   ],
   "source": [
    "a = np.random.randint(1, 11, size=(5, 5))\n",
    "print(\"Matrix:\\n\", a)"
   ]
  },
  {
   "cell_type": "markdown",
   "id": "105dab39-dd36-4cfa-88e1-4c94b16420a4",
   "metadata": {},
   "source": [
    "### 4. Create a 4x4 array, fill it with random real numbers in the range 0 to 1, and output its value."
   ]
  },
  {
   "cell_type": "code",
   "execution_count": 5,
   "id": "e1d9364d-bd6b-409e-98c8-4e50407eda42",
   "metadata": {},
   "outputs": [
    {
     "name": "stdout",
     "output_type": "stream",
     "text": [
      "Matrix:\n",
      " [[1 1 1 1]\n",
      " [1 0 1 0]\n",
      " [0 0 1 1]\n",
      " [1 0 1 0]]\n"
     ]
    }
   ],
   "source": [
    "a = np.random.randint(0, 2, size=(4, 4))\n",
    "print(\"Matrix:\\n\", a)"
   ]
  },
  {
   "cell_type": "markdown",
   "id": "a7264c48-c1d8-459c-9e4e-a287bed3bba7",
   "metadata": {},
   "source": [
    "### 5. Create two one-dimensional arrays of size 5, fill them with random integers from 1 to 10, and perform element-by-element addition, subtraction, and multiplication operations on them."
   ]
  },
  {
   "cell_type": "code",
   "execution_count": 6,
   "id": "100fd4da-e37c-4cae-ae50-c2dba0dc02bb",
   "metadata": {},
   "outputs": [
    {
     "name": "stdout",
     "output_type": "stream",
     "text": [
      "Vector a:\n",
      " [3 6 5 4 1]\n",
      "Vector b:\n",
      " [8 5 9 5 1]\n",
      "Vector's addition:\n",
      " [11 11 14  9  2]\n",
      "Vector's subtraction:\n",
      " [-5  1 -4 -1  0]\n",
      "Vector's multiplication:\n",
      " [24 30 45 20  1]\n"
     ]
    }
   ],
   "source": [
    "a = np.random.randint(1, 11, size=5)\n",
    "b = np.random.randint(1, 11, size=5)\n",
    "print(\"Vector a:\\n\", a)\n",
    "print(\"Vector b:\\n\", b)\n",
    "print(\"Vector's addition:\\n\", a + b)\n",
    "print(\"Vector's subtraction:\\n\", a - b)\n",
    "print(\"Vector's multiplication:\\n\", a * b)"
   ]
  },
  {
   "cell_type": "markdown",
   "id": "0175de23-0a69-4ed7-a873-2694e5555033",
   "metadata": {},
   "source": [
    "### 6. Create two vectors of size 7, fill with arbitrary numbers and find their scalar product."
   ]
  },
  {
   "cell_type": "code",
   "execution_count": 7,
   "id": "b576cbde-a1cb-4c4f-a602-98045c714fe8",
   "metadata": {},
   "outputs": [
    {
     "name": "stdout",
     "output_type": "stream",
     "text": [
      "Vector a:\n",
      " [39 25 49 84 57 77 78]\n",
      "Vector b:\n",
      " [79  9 67 18 34 32 46]\n",
      "Scalar product:  16091\n"
     ]
    }
   ],
   "source": [
    "a = np.random.randint(1, 100, size=7)\n",
    "b = np.random.randint(1, 100, size=7)\n",
    "scalar_product = np.dot(a, b)\n",
    "print(\"Vector a:\\n\", a)\n",
    "print(\"Vector b:\\n\", b)\n",
    "print(\"Scalar product: \", scalar_product)\n"
   ]
  },
  {
   "cell_type": "markdown",
   "id": "0cc41f93-722b-453e-a306-63049e1eb35b",
   "metadata": {},
   "source": [
    "### 7. Create two matrices of size 2x2 and 2x3, fill them with random integers between 1 and 10, and multiply them together."
   ]
  },
  {
   "cell_type": "code",
   "execution_count": 8,
   "id": "802c5c4e-0c6b-4baf-a1f1-9ab17778cc51",
   "metadata": {},
   "outputs": [
    {
     "name": "stdout",
     "output_type": "stream",
     "text": [
      "Matrix:\n",
      " [[6 5]\n",
      " [7 2]]\n",
      "Matrix:\n",
      " [[ 8 10  5]\n",
      " [ 6  9  9]]\n",
      "Matrix's multiplication:\n",
      " [[ 78 105  75]\n",
      " [ 68  88  53]]\n"
     ]
    }
   ],
   "source": [
    "a = np.random.randint(1, 11, size=(2, 2))\n",
    "b = np.random.randint(1, 11, size=(2, 3))\n",
    "result = np.dot(a, b)\n",
    "print(\"Matrix:\\n\", a)\n",
    "print(\"Matrix:\\n\", b)\n",
    "print(\"Matrix's multiplication:\\n\", result)"
   ]
  },
  {
   "cell_type": "markdown",
   "id": "2ded46f3-ae2c-4892-a5c8-5c0da3c47054",
   "metadata": {},
   "source": [
    "### 8. Create a 3x3 matrix, fill it with random integers from 1 to 10, and find its inverse."
   ]
  },
  {
   "cell_type": "code",
   "execution_count": 9,
   "id": "adbbca55-21d1-4081-a05e-5529989a33e1",
   "metadata": {},
   "outputs": [
    {
     "name": "stdout",
     "output_type": "stream",
     "text": [
      "Matrix:\n",
      " [[ 7  8  5]\n",
      " [ 7  8  1]\n",
      " [10  2  1]]\n",
      "Reversed matrix:\n",
      " [[-0.02272727 -0.00757576  0.12121212]\n",
      " [-0.01136364  0.16287879 -0.10606061]\n",
      " [ 0.25       -0.25        0.        ]]\n"
     ]
    }
   ],
   "source": [
    "a = np.random.randint(1, 11, size=(3, 3))\n",
    "a_inv = np.linalg.inv(a)\n",
    "print(\"Matrix:\\n\", a)\n",
    "print(\"Reversed matrix:\\n\", a_inv)"
   ]
  },
  {
   "cell_type": "markdown",
   "id": "cadcc3ed-fa50-41ed-b364-61212c19e18a",
   "metadata": {},
   "source": [
    "### 9. Create a 4x4 matrix, fill it with random real numbers between 0 and 1, and transpose it."
   ]
  },
  {
   "cell_type": "code",
   "execution_count": 10,
   "id": "d10c158a-f2de-42d9-a574-a6168cb62bea",
   "metadata": {},
   "outputs": [
    {
     "name": "stdout",
     "output_type": "stream",
     "text": [
      "Matrix:\n",
      " [[1 0 1 1]\n",
      " [0 1 1 0]\n",
      " [1 1 1 1]\n",
      " [1 1 1 0]]\n",
      "Transposed matrix:\n",
      " [[1 0 1 1]\n",
      " [0 1 1 1]\n",
      " [1 1 1 1]\n",
      " [1 0 1 0]]\n"
     ]
    }
   ],
   "source": [
    "a = np.random.randint(0, 2, size=(4, 4))\n",
    "a_trans = a.T\n",
    "print(\"Matrix:\\n\", a)\n",
    "print(\"Transposed matrix:\\n\", a_trans)"
   ]
  },
  {
   "cell_type": "markdown",
   "id": "6aef2b87-a92e-4891-8101-fe24ae3809d5",
   "metadata": {},
   "source": [
    "### 10. Create a 3x4 matrix and a 4 vector, fill them with random integers between 1 and 10, and multiply the matrix by the vector."
   ]
  },
  {
   "cell_type": "code",
   "execution_count": 11,
   "id": "24087cd7-a8f2-49a3-bb52-83fe9e9ad5c0",
   "metadata": {},
   "outputs": [
    {
     "name": "stdout",
     "output_type": "stream",
     "text": [
      "Matrix:\n",
      " [[ 8  1  6 10]\n",
      " [10  9  9  6]\n",
      " [ 7  4  5  4]]\n",
      "Vector:\n",
      " [6 9 5 1]\n",
      "Matrix multiplication by a vector:\n",
      " [[48  9 30 10]\n",
      " [60 81 45  6]\n",
      " [42 36 25  4]]\n"
     ]
    }
   ],
   "source": [
    "a = np.random.randint(1, 11, size=(3, 4))\n",
    "b = np.random.randint(1, 11, size=4)\n",
    "print(\"Matrix:\\n\", a)\n",
    "print(\"Vector:\\n\", b)\n",
    "print(\"Matrix multiplication by a vector:\\n\", a * b)"
   ]
  },
  {
   "cell_type": "markdown",
   "id": "6b523dbd-5aad-49e6-9e17-8f8282f346aa",
   "metadata": {},
   "source": [
    "### 11. Create a 2x3 matrix and a 3 vector, fill them with random real numbers between 0 and 1, and multiply the matrix by the vector."
   ]
  },
  {
   "cell_type": "code",
   "execution_count": 12,
   "id": "42262fc8-9b26-45f4-bc59-01ca5ec8df14",
   "metadata": {},
   "outputs": [
    {
     "name": "stdout",
     "output_type": "stream",
     "text": [
      "Matrix:\n",
      " [[1 1 0]\n",
      " [1 1 1]]\n",
      "Vector:\n",
      " [1 0 0]\n",
      "Matrix multiplication by a vector:\n",
      " [[1 0 0]\n",
      " [1 0 0]]\n"
     ]
    }
   ],
   "source": [
    "a = np.random.randint(0, 2, size=(2, 3))\n",
    "b = np.random.randint(0, 2, size=3)\n",
    "print(\"Matrix:\\n\", a)\n",
    "print(\"Vector:\\n\", b)\n",
    "print(\"Matrix multiplication by a vector:\\n\", a * b)"
   ]
  },
  {
   "cell_type": "markdown",
   "id": "0991a460-7612-46df-a6a9-49dac25309a7",
   "metadata": {},
   "source": [
    "### 12. Create two 2x2 matrices, fill them with random integers between 1 and 10, and multiply them elementwise."
   ]
  },
  {
   "cell_type": "code",
   "execution_count": 13,
   "id": "aef7f940-09ac-4ad4-98c8-4464738777f5",
   "metadata": {},
   "outputs": [
    {
     "name": "stdout",
     "output_type": "stream",
     "text": [
      "Matrix a:\n",
      " [[6 7]\n",
      " [7 8]]\n",
      "Matrix b:\n",
      " [[5 9]\n",
      " [3 9]]\n",
      "Matrix multiplication by a vector:\n",
      " [[30 63]\n",
      " [21 72]]\n"
     ]
    }
   ],
   "source": [
    "a = np.random.randint(1, 11, size=(2, 2))\n",
    "b = np.random.randint(1, 11, size=(2, 2))\n",
    "print(\"Matrix a:\\n\", a)\n",
    "print(\"Matrix b:\\n\", b)\n",
    "print(\"Matrix multiplication by a vector:\\n\", a * b)"
   ]
  },
  {
   "cell_type": "markdown",
   "id": "96c0c6bf-072c-416b-b018-03253a60c368",
   "metadata": {},
   "source": [
    "### 13. Create two 2x2 matrices, fill them with random integers from 1 to 10, and find their product."
   ]
  },
  {
   "cell_type": "code",
   "execution_count": 14,
   "id": "c423e9e7-7bfd-48d7-8c78-9d20b0ff6cd9",
   "metadata": {},
   "outputs": [
    {
     "name": "stdout",
     "output_type": "stream",
     "text": [
      "Matrix a:\n",
      " [[9 3]\n",
      " [4 8]]\n",
      "Matrix b:\n",
      " [[1 1]\n",
      " [9 7]]\n",
      "Product of two matrices:\n",
      " [[36 30]\n",
      " [76 60]]\n"
     ]
    }
   ],
   "source": [
    "a = np.random.randint(1, 11, size=(2, 2))\n",
    "b = np.random.randint(1, 11, size=(2, 2))\n",
    "print(\"Matrix a:\\n\", a)\n",
    "print(\"Matrix b:\\n\", b)\n",
    "print(\"Product of two matrices:\\n\", np.dot(a, b))"
   ]
  },
  {
   "cell_type": "markdown",
   "id": "fa32b1e3-25c4-4373-9538-3c3f223784d8",
   "metadata": {},
   "source": [
    "### 14. Create a 5x5 matrix, fill it with random integers between 1 and 100, and find the sum of the matrix elements."
   ]
  },
  {
   "cell_type": "code",
   "execution_count": 15,
   "id": "5030da0f-0a6c-4862-845b-0d400c7a13a2",
   "metadata": {},
   "outputs": [
    {
     "name": "stdout",
     "output_type": "stream",
     "text": [
      "Matrix:\n",
      " [[25 50 53 26 71]\n",
      " [15 59  2 14 72]\n",
      " [91 63 15  1 33]\n",
      " [15 43 88 90 29]\n",
      " [29 88 97 42 87]]\n",
      "Sum of the matrix elements:\n",
      " 1198\n"
     ]
    }
   ],
   "source": [
    "a = np.random.randint(1, 101, size=(5, 5))\n",
    "print(\"Matrix:\\n\", a)\n",
    "print(\"Sum of the matrix elements:\\n\", np.sum(a))"
   ]
  },
  {
   "cell_type": "markdown",
   "id": "02a46d9a-3ed7-48aa-86b8-9a1b67e46ea6",
   "metadata": {},
   "source": [
    "### 15. Create two 4x4 matrices, fill them with random integers between 1 and 10, and find their difference."
   ]
  },
  {
   "cell_type": "code",
   "execution_count": 16,
   "id": "82fb42b6-d241-42ce-b6a8-a80fe2a8b4f6",
   "metadata": {},
   "outputs": [
    {
     "name": "stdout",
     "output_type": "stream",
     "text": [
      "Matrix a:\n",
      " [[3 2 7 9]\n",
      " [8 7 3 4]\n",
      " [2 7 6 5]\n",
      " [1 7 2 7]]\n",
      "Matrix b:\n",
      " [[ 3  2  8  7]\n",
      " [ 4  9  5  6]\n",
      " [ 6  9  7  8]\n",
      " [ 5  8 10 10]]\n",
      "Subtraction of two matrices:\n",
      " [[ 0  0 -1  2]\n",
      " [ 4 -2 -2 -2]\n",
      " [-4 -2 -1 -3]\n",
      " [-4 -1 -8 -3]]\n"
     ]
    }
   ],
   "source": [
    "a = np.random.randint(1, 11, size=(4, 4))\n",
    "b = np.random.randint(1, 11, size=(4, 4))\n",
    "print(\"Matrix a:\\n\", a)\n",
    "print(\"Matrix b:\\n\", b)\n",
    "print(\"Subtraction of two matrices:\\n\", a - b)"
   ]
  },
  {
   "cell_type": "markdown",
   "id": "ff1d6015-5e15-445f-b149-b7b2746e43ee",
   "metadata": {},
   "source": [
    "### 16. Create a 3x3 matrix, fill it with random real numbers in the range 0 to 1, and find a column vector containing the sum of the elements of each row of the matrix."
   ]
  },
  {
   "cell_type": "code",
   "execution_count": 17,
   "id": "a8542f15-7e0a-4465-bc62-eb713bf25ffd",
   "metadata": {},
   "outputs": [
    {
     "name": "stdout",
     "output_type": "stream",
     "text": [
      "Matrix:\n",
      " [[0 1 1]\n",
      " [1 1 1]\n",
      " [0 0 1]]\n",
      "Rows sum vector:\n",
      " [[2]\n",
      " [3]\n",
      " [1]]\n"
     ]
    }
   ],
   "source": [
    "a = np.random.randint(0, 2, size=(3, 3))\n",
    "row_sum_vector = np.sum(a, axis=1, keepdims=True)\n",
    "print(\"Matrix:\\n\", a)\n",
    "print(\"Rows sum vector:\\n\", row_sum_vector)"
   ]
  },
  {
   "cell_type": "markdown",
   "id": "b8459833-6f94-49ad-ad71-64ce6a139bda",
   "metadata": {},
   "source": [
    "### 17. Create a 3x4 matrix of arbitrary integers and create a matrix of the squares of those numbers."
   ]
  },
  {
   "cell_type": "code",
   "execution_count": 18,
   "id": "355cf55d-a5a7-45fe-b71e-935d1bb89add",
   "metadata": {},
   "outputs": [
    {
     "name": "stdout",
     "output_type": "stream",
     "text": [
      "Matrix:\n",
      " [[ -8  -5   5  -4]\n",
      " [ -8  15  16  10]\n",
      " [ 14  11  -8 -10]]\n",
      "Matrix of the squares:\n",
      " [[ 64  25  25  16]\n",
      " [ 64 225 256 100]\n",
      " [196 121  64 100]]\n"
     ]
    }
   ],
   "source": [
    "a = np.random.randint(-10, 20, size=(3, 4))\n",
    "sqr = np.square(a)\n",
    "print(\"Matrix:\\n\", a)\n",
    "print(\"Matrix of the squares:\\n\", sqr)"
   ]
  },
  {
   "cell_type": "markdown",
   "id": "1b78e369-779a-4a69-901e-f8fd1eda7058",
   "metadata": {},
   "source": [
    "### 18. Create a vector of size 4, fill it with random integers between 1 and 50, and find the square root vector of those numbers."
   ]
  },
  {
   "cell_type": "code",
   "execution_count": 19,
   "id": "d2e0ff1f-8512-4cb3-9848-d7be5c56fc63",
   "metadata": {},
   "outputs": [
    {
     "name": "stdout",
     "output_type": "stream",
     "text": [
      "Vector:\n",
      " [ 8 20 48 19]\n",
      "Square root vector:\n",
      " [2.82842712 4.47213595 6.92820323 4.35889894]\n"
     ]
    }
   ],
   "source": [
    "a = np.random.randint(1, 51, size=4)\n",
    "sqrt = np.sqrt(a)\n",
    "print(\"Vector:\\n\", a)\n",
    "print(\"Square root vector:\\n\", sqrt)"
   ]
  }
 ],
 "metadata": {
  "kernelspec": {
   "display_name": "Python 3 (ipykernel)",
   "language": "python",
   "name": "python3"
  },
  "language_info": {
   "codemirror_mode": {
    "name": "ipython",
    "version": 3
   },
   "file_extension": ".py",
   "mimetype": "text/x-python",
   "name": "python",
   "nbconvert_exporter": "python",
   "pygments_lexer": "ipython3",
   "version": "3.11.4"
  }
 },
 "nbformat": 4,
 "nbformat_minor": 5
}
