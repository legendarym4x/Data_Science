{
 "cells": [
  {
   "cell_type": "markdown",
   "id": "28331a70-a5d3-47fd-ae44-c7703bba21e6",
   "metadata": {},
   "source": [
    "## In this task, we use data from the Top 50 best-selling books on Amazon for 11 years (from 2009 to 2019)"
   ]
  },
  {
   "cell_type": "markdown",
   "id": "3f3bb019-f9ea-4c4d-a6a9-ed7b687ad649",
   "metadata": {},
   "source": [
    "### 1.1. Read the csv file (use the read_csv function):"
   ]
  },
  {
   "cell_type": "code",
   "execution_count": 1,
   "id": "3efa958d-83c9-495b-aa4c-8fcc7339bd10",
   "metadata": {},
   "outputs": [],
   "source": [
    "import matplotlib.pyplot as plt\n",
    "import pandas as pd"
   ]
  },
  {
   "cell_type": "code",
   "execution_count": 2,
   "id": "8e425181-edc1-44e2-b687-6805e588bbc7",
   "metadata": {},
   "outputs": [
    {
     "data": {
      "text/html": [
       "<div>\n",
       "<style scoped>\n",
       "    .dataframe tbody tr th:only-of-type {\n",
       "        vertical-align: middle;\n",
       "    }\n",
       "\n",
       "    .dataframe tbody tr th {\n",
       "        vertical-align: top;\n",
       "    }\n",
       "\n",
       "    .dataframe thead th {\n",
       "        text-align: right;\n",
       "    }\n",
       "</style>\n",
       "<table border=\"1\" class=\"dataframe\">\n",
       "  <thead>\n",
       "    <tr style=\"text-align: right;\">\n",
       "      <th></th>\n",
       "      <th>Name</th>\n",
       "      <th>Author</th>\n",
       "      <th>User Rating</th>\n",
       "      <th>Reviews</th>\n",
       "      <th>Price</th>\n",
       "      <th>Year</th>\n",
       "      <th>Genre</th>\n",
       "    </tr>\n",
       "  </thead>\n",
       "  <tbody>\n",
       "    <tr>\n",
       "      <th>0</th>\n",
       "      <td>10-Day Green Smoothie Cleanse</td>\n",
       "      <td>JJ Smith</td>\n",
       "      <td>4.7</td>\n",
       "      <td>17350</td>\n",
       "      <td>8</td>\n",
       "      <td>2016</td>\n",
       "      <td>Non Fiction</td>\n",
       "    </tr>\n",
       "    <tr>\n",
       "      <th>1</th>\n",
       "      <td>11/22/63: A Novel</td>\n",
       "      <td>Stephen King</td>\n",
       "      <td>4.6</td>\n",
       "      <td>2052</td>\n",
       "      <td>22</td>\n",
       "      <td>2011</td>\n",
       "      <td>Fiction</td>\n",
       "    </tr>\n",
       "    <tr>\n",
       "      <th>2</th>\n",
       "      <td>12 Rules for Life: An Antidote to Chaos</td>\n",
       "      <td>Jordan B. Peterson</td>\n",
       "      <td>4.7</td>\n",
       "      <td>18979</td>\n",
       "      <td>15</td>\n",
       "      <td>2018</td>\n",
       "      <td>Non Fiction</td>\n",
       "    </tr>\n",
       "    <tr>\n",
       "      <th>3</th>\n",
       "      <td>1984 (Signet Classics)</td>\n",
       "      <td>George Orwell</td>\n",
       "      <td>4.7</td>\n",
       "      <td>21424</td>\n",
       "      <td>6</td>\n",
       "      <td>2017</td>\n",
       "      <td>Fiction</td>\n",
       "    </tr>\n",
       "    <tr>\n",
       "      <th>4</th>\n",
       "      <td>5,000 Awesome Facts (About Everything!) (Natio...</td>\n",
       "      <td>National Geographic Kids</td>\n",
       "      <td>4.8</td>\n",
       "      <td>7665</td>\n",
       "      <td>12</td>\n",
       "      <td>2019</td>\n",
       "      <td>Non Fiction</td>\n",
       "    </tr>\n",
       "    <tr>\n",
       "      <th>...</th>\n",
       "      <td>...</td>\n",
       "      <td>...</td>\n",
       "      <td>...</td>\n",
       "      <td>...</td>\n",
       "      <td>...</td>\n",
       "      <td>...</td>\n",
       "      <td>...</td>\n",
       "    </tr>\n",
       "    <tr>\n",
       "      <th>545</th>\n",
       "      <td>Wrecking Ball (Diary of a Wimpy Kid Book 14)</td>\n",
       "      <td>Jeff Kinney</td>\n",
       "      <td>4.9</td>\n",
       "      <td>9413</td>\n",
       "      <td>8</td>\n",
       "      <td>2019</td>\n",
       "      <td>Fiction</td>\n",
       "    </tr>\n",
       "    <tr>\n",
       "      <th>546</th>\n",
       "      <td>You Are a Badass: How to Stop Doubting Your Gr...</td>\n",
       "      <td>Jen Sincero</td>\n",
       "      <td>4.7</td>\n",
       "      <td>14331</td>\n",
       "      <td>8</td>\n",
       "      <td>2016</td>\n",
       "      <td>Non Fiction</td>\n",
       "    </tr>\n",
       "    <tr>\n",
       "      <th>547</th>\n",
       "      <td>You Are a Badass: How to Stop Doubting Your Gr...</td>\n",
       "      <td>Jen Sincero</td>\n",
       "      <td>4.7</td>\n",
       "      <td>14331</td>\n",
       "      <td>8</td>\n",
       "      <td>2017</td>\n",
       "      <td>Non Fiction</td>\n",
       "    </tr>\n",
       "    <tr>\n",
       "      <th>548</th>\n",
       "      <td>You Are a Badass: How to Stop Doubting Your Gr...</td>\n",
       "      <td>Jen Sincero</td>\n",
       "      <td>4.7</td>\n",
       "      <td>14331</td>\n",
       "      <td>8</td>\n",
       "      <td>2018</td>\n",
       "      <td>Non Fiction</td>\n",
       "    </tr>\n",
       "    <tr>\n",
       "      <th>549</th>\n",
       "      <td>You Are a Badass: How to Stop Doubting Your Gr...</td>\n",
       "      <td>Jen Sincero</td>\n",
       "      <td>4.7</td>\n",
       "      <td>14331</td>\n",
       "      <td>8</td>\n",
       "      <td>2019</td>\n",
       "      <td>Non Fiction</td>\n",
       "    </tr>\n",
       "  </tbody>\n",
       "</table>\n",
       "<p>550 rows × 7 columns</p>\n",
       "</div>"
      ],
      "text/plain": [
       "                                                  Name  \\\n",
       "0                        10-Day Green Smoothie Cleanse   \n",
       "1                                    11/22/63: A Novel   \n",
       "2              12 Rules for Life: An Antidote to Chaos   \n",
       "3                               1984 (Signet Classics)   \n",
       "4    5,000 Awesome Facts (About Everything!) (Natio...   \n",
       "..                                                 ...   \n",
       "545       Wrecking Ball (Diary of a Wimpy Kid Book 14)   \n",
       "546  You Are a Badass: How to Stop Doubting Your Gr...   \n",
       "547  You Are a Badass: How to Stop Doubting Your Gr...   \n",
       "548  You Are a Badass: How to Stop Doubting Your Gr...   \n",
       "549  You Are a Badass: How to Stop Doubting Your Gr...   \n",
       "\n",
       "                       Author  User Rating  Reviews  Price  Year        Genre  \n",
       "0                    JJ Smith          4.7    17350      8  2016  Non Fiction  \n",
       "1                Stephen King          4.6     2052     22  2011      Fiction  \n",
       "2          Jordan B. Peterson          4.7    18979     15  2018  Non Fiction  \n",
       "3               George Orwell          4.7    21424      6  2017      Fiction  \n",
       "4    National Geographic Kids          4.8     7665     12  2019  Non Fiction  \n",
       "..                        ...          ...      ...    ...   ...          ...  \n",
       "545               Jeff Kinney          4.9     9413      8  2019      Fiction  \n",
       "546               Jen Sincero          4.7    14331      8  2016  Non Fiction  \n",
       "547               Jen Sincero          4.7    14331      8  2017  Non Fiction  \n",
       "548               Jen Sincero          4.7    14331      8  2018  Non Fiction  \n",
       "549               Jen Sincero          4.7    14331      8  2019  Non Fiction  \n",
       "\n",
       "[550 rows x 7 columns]"
      ]
     },
     "execution_count": 2,
     "metadata": {},
     "output_type": "execute_result"
    }
   ],
   "source": [
    "df = pd.read_csv('bestsellers with categories.csv')\n",
    "\n",
    "df"
   ]
  },
  {
   "cell_type": "markdown",
   "id": "43b70906-2193-43fc-b822-668114023521",
   "metadata": {},
   "source": [
    "### 1.2. Output the first five lines (the head function is used):"
   ]
  },
  {
   "cell_type": "code",
   "execution_count": 3,
   "id": "49cf5872-9e24-40c6-b7e6-f51ae1b0ae66",
   "metadata": {},
   "outputs": [
    {
     "data": {
      "text/html": [
       "<div>\n",
       "<style scoped>\n",
       "    .dataframe tbody tr th:only-of-type {\n",
       "        vertical-align: middle;\n",
       "    }\n",
       "\n",
       "    .dataframe tbody tr th {\n",
       "        vertical-align: top;\n",
       "    }\n",
       "\n",
       "    .dataframe thead th {\n",
       "        text-align: right;\n",
       "    }\n",
       "</style>\n",
       "<table border=\"1\" class=\"dataframe\">\n",
       "  <thead>\n",
       "    <tr style=\"text-align: right;\">\n",
       "      <th></th>\n",
       "      <th>Name</th>\n",
       "      <th>Author</th>\n",
       "      <th>User Rating</th>\n",
       "      <th>Reviews</th>\n",
       "      <th>Price</th>\n",
       "      <th>Year</th>\n",
       "      <th>Genre</th>\n",
       "    </tr>\n",
       "  </thead>\n",
       "  <tbody>\n",
       "    <tr>\n",
       "      <th>0</th>\n",
       "      <td>10-Day Green Smoothie Cleanse</td>\n",
       "      <td>JJ Smith</td>\n",
       "      <td>4.7</td>\n",
       "      <td>17350</td>\n",
       "      <td>8</td>\n",
       "      <td>2016</td>\n",
       "      <td>Non Fiction</td>\n",
       "    </tr>\n",
       "    <tr>\n",
       "      <th>1</th>\n",
       "      <td>11/22/63: A Novel</td>\n",
       "      <td>Stephen King</td>\n",
       "      <td>4.6</td>\n",
       "      <td>2052</td>\n",
       "      <td>22</td>\n",
       "      <td>2011</td>\n",
       "      <td>Fiction</td>\n",
       "    </tr>\n",
       "    <tr>\n",
       "      <th>2</th>\n",
       "      <td>12 Rules for Life: An Antidote to Chaos</td>\n",
       "      <td>Jordan B. Peterson</td>\n",
       "      <td>4.7</td>\n",
       "      <td>18979</td>\n",
       "      <td>15</td>\n",
       "      <td>2018</td>\n",
       "      <td>Non Fiction</td>\n",
       "    </tr>\n",
       "    <tr>\n",
       "      <th>3</th>\n",
       "      <td>1984 (Signet Classics)</td>\n",
       "      <td>George Orwell</td>\n",
       "      <td>4.7</td>\n",
       "      <td>21424</td>\n",
       "      <td>6</td>\n",
       "      <td>2017</td>\n",
       "      <td>Fiction</td>\n",
       "    </tr>\n",
       "    <tr>\n",
       "      <th>4</th>\n",
       "      <td>5,000 Awesome Facts (About Everything!) (Natio...</td>\n",
       "      <td>National Geographic Kids</td>\n",
       "      <td>4.8</td>\n",
       "      <td>7665</td>\n",
       "      <td>12</td>\n",
       "      <td>2019</td>\n",
       "      <td>Non Fiction</td>\n",
       "    </tr>\n",
       "  </tbody>\n",
       "</table>\n",
       "</div>"
      ],
      "text/plain": [
       "                                                Name  \\\n",
       "0                      10-Day Green Smoothie Cleanse   \n",
       "1                                  11/22/63: A Novel   \n",
       "2            12 Rules for Life: An Antidote to Chaos   \n",
       "3                             1984 (Signet Classics)   \n",
       "4  5,000 Awesome Facts (About Everything!) (Natio...   \n",
       "\n",
       "                     Author  User Rating  Reviews  Price  Year        Genre  \n",
       "0                  JJ Smith          4.7    17350      8  2016  Non Fiction  \n",
       "1              Stephen King          4.6     2052     22  2011      Fiction  \n",
       "2        Jordan B. Peterson          4.7    18979     15  2018  Non Fiction  \n",
       "3             George Orwell          4.7    21424      6  2017      Fiction  \n",
       "4  National Geographic Kids          4.8     7665     12  2019  Non Fiction  "
      ]
     },
     "execution_count": 3,
     "metadata": {},
     "output_type": "execute_result"
    }
   ],
   "source": [
    "df.head()"
   ]
  },
  {
   "cell_type": "markdown",
   "id": "d9da6980-e7a5-44f8-89b2-f495ffd22bd4",
   "metadata": {},
   "source": [
    "### 1.3. Display the dimensions of the dataset (use the shape attribute):"
   ]
  },
  {
   "cell_type": "code",
   "execution_count": 4,
   "id": "a931fb67-115d-4b86-83c8-4f0134f8d372",
   "metadata": {},
   "outputs": [
    {
     "name": "stdout",
     "output_type": "stream",
     "text": [
      "The number of rows and columns: (550, 7)\n"
     ]
    }
   ],
   "source": [
    "print(\"The number of rows and columns:\", df.shape)"
   ]
  },
  {
   "cell_type": "markdown",
   "id": "936b4fa1-13db-43c2-99bd-41c03a86ba5b",
   "metadata": {},
   "source": [
    "### 1.4. Change the case of the column names to lowercase, and replace the space with an underscore (snake_style) using the columns attribute:"
   ]
  },
  {
   "cell_type": "code",
   "execution_count": 5,
   "id": "e3794a10-9bed-4265-9c84-1e69bab9896f",
   "metadata": {},
   "outputs": [
    {
     "name": "stdout",
     "output_type": "stream",
     "text": [
      "Index(['name', 'author', 'user_rating', 'reviews', 'price', 'year', 'genre'], dtype='object')\n"
     ]
    }
   ],
   "source": [
    "df.columns = ['name', 'author', 'user_rating', 'reviews', 'price', 'year', 'genre']\n",
    "print(df.columns)"
   ]
  },
  {
   "cell_type": "markdown",
   "id": "92300783-df26-4210-ac4d-a293c28f6bf3",
   "metadata": {},
   "source": [
    "### 1.5. How many books does the dataset store:"
   ]
  },
  {
   "cell_type": "code",
   "execution_count": 6,
   "id": "5ce1c74c-2026-494f-92fb-a6bad4fa7b41",
   "metadata": {},
   "outputs": [
    {
     "name": "stdout",
     "output_type": "stream",
     "text": [
      "Number of books in our dataset: 351\n"
     ]
    },
    {
     "data": {
      "text/html": [
       "<div>\n",
       "<style scoped>\n",
       "    .dataframe tbody tr th:only-of-type {\n",
       "        vertical-align: middle;\n",
       "    }\n",
       "\n",
       "    .dataframe tbody tr th {\n",
       "        vertical-align: top;\n",
       "    }\n",
       "\n",
       "    .dataframe thead th {\n",
       "        text-align: right;\n",
       "    }\n",
       "</style>\n",
       "<table border=\"1\" class=\"dataframe\">\n",
       "  <thead>\n",
       "    <tr style=\"text-align: right;\">\n",
       "      <th></th>\n",
       "      <th>name</th>\n",
       "      <th>author</th>\n",
       "      <th>user_rating</th>\n",
       "      <th>reviews</th>\n",
       "      <th>price</th>\n",
       "      <th>year</th>\n",
       "      <th>genre</th>\n",
       "    </tr>\n",
       "  </thead>\n",
       "  <tbody>\n",
       "    <tr>\n",
       "      <th>0</th>\n",
       "      <td>10-Day Green Smoothie Cleanse</td>\n",
       "      <td>JJ Smith</td>\n",
       "      <td>4.7</td>\n",
       "      <td>17350</td>\n",
       "      <td>8</td>\n",
       "      <td>2016</td>\n",
       "      <td>Non Fiction</td>\n",
       "    </tr>\n",
       "    <tr>\n",
       "      <th>1</th>\n",
       "      <td>11/22/63: A Novel</td>\n",
       "      <td>Stephen King</td>\n",
       "      <td>4.6</td>\n",
       "      <td>2052</td>\n",
       "      <td>22</td>\n",
       "      <td>2011</td>\n",
       "      <td>Fiction</td>\n",
       "    </tr>\n",
       "    <tr>\n",
       "      <th>2</th>\n",
       "      <td>12 Rules for Life: An Antidote to Chaos</td>\n",
       "      <td>Jordan B. Peterson</td>\n",
       "      <td>4.7</td>\n",
       "      <td>18979</td>\n",
       "      <td>15</td>\n",
       "      <td>2018</td>\n",
       "      <td>Non Fiction</td>\n",
       "    </tr>\n",
       "    <tr>\n",
       "      <th>3</th>\n",
       "      <td>1984 (Signet Classics)</td>\n",
       "      <td>George Orwell</td>\n",
       "      <td>4.7</td>\n",
       "      <td>21424</td>\n",
       "      <td>6</td>\n",
       "      <td>2017</td>\n",
       "      <td>Fiction</td>\n",
       "    </tr>\n",
       "    <tr>\n",
       "      <th>4</th>\n",
       "      <td>5,000 Awesome Facts (About Everything!) (Natio...</td>\n",
       "      <td>National Geographic Kids</td>\n",
       "      <td>4.8</td>\n",
       "      <td>7665</td>\n",
       "      <td>12</td>\n",
       "      <td>2019</td>\n",
       "      <td>Non Fiction</td>\n",
       "    </tr>\n",
       "    <tr>\n",
       "      <th>...</th>\n",
       "      <td>...</td>\n",
       "      <td>...</td>\n",
       "      <td>...</td>\n",
       "      <td>...</td>\n",
       "      <td>...</td>\n",
       "      <td>...</td>\n",
       "      <td>...</td>\n",
       "    </tr>\n",
       "    <tr>\n",
       "      <th>538</th>\n",
       "      <td>Winter of the World: Book Two of the Century T...</td>\n",
       "      <td>Ken Follett</td>\n",
       "      <td>4.5</td>\n",
       "      <td>10760</td>\n",
       "      <td>15</td>\n",
       "      <td>2012</td>\n",
       "      <td>Fiction</td>\n",
       "    </tr>\n",
       "    <tr>\n",
       "      <th>539</th>\n",
       "      <td>Women Food and God: An Unexpected Path to Almo...</td>\n",
       "      <td>Geneen Roth</td>\n",
       "      <td>4.2</td>\n",
       "      <td>1302</td>\n",
       "      <td>11</td>\n",
       "      <td>2010</td>\n",
       "      <td>Non Fiction</td>\n",
       "    </tr>\n",
       "    <tr>\n",
       "      <th>540</th>\n",
       "      <td>Wonder</td>\n",
       "      <td>R. J. Palacio</td>\n",
       "      <td>4.8</td>\n",
       "      <td>21625</td>\n",
       "      <td>9</td>\n",
       "      <td>2013</td>\n",
       "      <td>Fiction</td>\n",
       "    </tr>\n",
       "    <tr>\n",
       "      <th>545</th>\n",
       "      <td>Wrecking Ball (Diary of a Wimpy Kid Book 14)</td>\n",
       "      <td>Jeff Kinney</td>\n",
       "      <td>4.9</td>\n",
       "      <td>9413</td>\n",
       "      <td>8</td>\n",
       "      <td>2019</td>\n",
       "      <td>Fiction</td>\n",
       "    </tr>\n",
       "    <tr>\n",
       "      <th>546</th>\n",
       "      <td>You Are a Badass: How to Stop Doubting Your Gr...</td>\n",
       "      <td>Jen Sincero</td>\n",
       "      <td>4.7</td>\n",
       "      <td>14331</td>\n",
       "      <td>8</td>\n",
       "      <td>2016</td>\n",
       "      <td>Non Fiction</td>\n",
       "    </tr>\n",
       "  </tbody>\n",
       "</table>\n",
       "<p>351 rows × 7 columns</p>\n",
       "</div>"
      ],
      "text/plain": [
       "                                                  name  \\\n",
       "0                        10-Day Green Smoothie Cleanse   \n",
       "1                                    11/22/63: A Novel   \n",
       "2              12 Rules for Life: An Antidote to Chaos   \n",
       "3                               1984 (Signet Classics)   \n",
       "4    5,000 Awesome Facts (About Everything!) (Natio...   \n",
       "..                                                 ...   \n",
       "538  Winter of the World: Book Two of the Century T...   \n",
       "539  Women Food and God: An Unexpected Path to Almo...   \n",
       "540                                             Wonder   \n",
       "545       Wrecking Ball (Diary of a Wimpy Kid Book 14)   \n",
       "546  You Are a Badass: How to Stop Doubting Your Gr...   \n",
       "\n",
       "                       author  user_rating  reviews  price  year        genre  \n",
       "0                    JJ Smith          4.7    17350      8  2016  Non Fiction  \n",
       "1                Stephen King          4.6     2052     22  2011      Fiction  \n",
       "2          Jordan B. Peterson          4.7    18979     15  2018  Non Fiction  \n",
       "3               George Orwell          4.7    21424      6  2017      Fiction  \n",
       "4    National Geographic Kids          4.8     7665     12  2019  Non Fiction  \n",
       "..                        ...          ...      ...    ...   ...          ...  \n",
       "538               Ken Follett          4.5    10760     15  2012      Fiction  \n",
       "539               Geneen Roth          4.2     1302     11  2010  Non Fiction  \n",
       "540             R. J. Palacio          4.8    21625      9  2013      Fiction  \n",
       "545               Jeff Kinney          4.9     9413      8  2019      Fiction  \n",
       "546               Jen Sincero          4.7    14331      8  2016  Non Fiction  \n",
       "\n",
       "[351 rows x 7 columns]"
      ]
     },
     "execution_count": 6,
     "metadata": {},
     "output_type": "execute_result"
    }
   ],
   "source": [
    "df_1 = df.drop_duplicates('name')\n",
    "print('Number of books in our dataset: 351')\n",
    "df_1"
   ]
  },
  {
   "cell_type": "markdown",
   "id": "7749c56f-2323-4e0f-b3d1-be3420fbf64b",
   "metadata": {},
   "source": [
    "## 2. Primary data analysis\n",
    "## 2.1. Check if all rows have enough data: output the number of gaps (na) in each of the columns (use the isna and sum functions):"
   ]
  },
  {
   "cell_type": "code",
   "execution_count": 7,
   "id": "a203a0da-2a83-47d8-b9a9-077dafbba437",
   "metadata": {},
   "outputs": [
    {
     "name": "stdout",
     "output_type": "stream",
     "text": [
      "name           0\n",
      "author         0\n",
      "user_rating    0\n",
      "reviews        0\n",
      "price          0\n",
      "year           0\n",
      "genre          0\n",
      "dtype: int64\n",
      "There is no gaps (NaN) in our table\n"
     ]
    }
   ],
   "source": [
    "missing_values = df.isnull().sum()\n",
    "print(missing_values)\n",
    "print('There is no gaps (NaN) in our table')"
   ]
  },
  {
   "cell_type": "markdown",
   "id": "1048c6ba-4d5c-4647-b0f4-280b66328db7",
   "metadata": {},
   "source": [
    "### 2.2. Check what are the unique values in the genre column (use the unique function):"
   ]
  },
  {
   "cell_type": "code",
   "execution_count": 8,
   "id": "cc5ad0e7-8057-4a4f-8ceb-c2d88a578a0f",
   "metadata": {},
   "outputs": [
    {
     "name": "stdout",
     "output_type": "stream",
     "text": [
      "Unique genres in our table:  ['Non Fiction' 'Fiction']\n"
     ]
    }
   ],
   "source": [
    "print('Unique genres in our table: ', pd.unique(df['genre']))"
   ]
  },
  {
   "cell_type": "markdown",
   "id": "19c0d9b3-1453-4c93-9421-1ea366f6f477",
   "metadata": {},
   "source": [
    "### 2.3. Now look at the price distribution: make a chart (use kind='hist'):"
   ]
  },
  {
   "cell_type": "code",
   "execution_count": 9,
   "id": "3f6243c8-75e1-4033-a463-dbf00a010b8d",
   "metadata": {},
   "outputs": [
    {
     "data": {
      "image/png": "[encoded data removed]",
      "text/plain": [
       "<Figure size 1000x400 with 1 Axes>"
      ]
     },
     "metadata": {},
     "output_type": "display_data"
    }
   ],
   "source": [
    "df['price'].plot(kind='hist', bins=50, color='skyblue', edgecolor='black', figsize=(10, 4))\n",
    "\n",
    "plt.title('Distribution of Prices')\n",
    "plt.xlabel('Price, USD')\n",
    "plt.ylabel('Frequency')\n",
    "plt.grid()\n",
    "\n",
    "plt.show()"
   ]
  },
  {
   "cell_type": "markdown",
   "id": "5019ccc7-bf76-4fc0-9b7a-4c0150db7d19",
   "metadata": {},
   "source": [
    "### 2.4. Determine what our maximum, minimum, average, median price is (use the max, min, mean, median functions):"
   ]
  },
  {
   "cell_type": "code",
   "execution_count": 10,
   "id": "6d4aa2d1-9468-4894-8b9c-a05417c14940",
   "metadata": {},
   "outputs": [
    {
     "name": "stdout",
     "output_type": "stream",
     "text": [
      "Min price: 0\n",
      "Max price: 105\n",
      "Average price: 13.1\n",
      "Median price: 11.0\n"
     ]
    }
   ],
   "source": [
    "print(f\"Min price: {df['price'].min()}\")\n",
    "print(f\"Max price: {df['price'].max()}\")\n",
    "print(f\"Average price: {df['price'].mean()}\")\n",
    "print(f\"Median price: {df['price'].median()}\")"
   ]
  },
  {
   "cell_type": "markdown",
   "id": "2adc2c55-8481-4744-825b-ecab2d12f9cf",
   "metadata": {},
   "source": [
    "## 3. Search and sort data\n",
    "### 3.1. What is the highest rating in the dataset:"
   ]
  },
  {
   "cell_type": "code",
   "execution_count": 11,
   "id": "2fc05db7-1e2b-4323-934b-62c983d6149f",
   "metadata": {},
   "outputs": [
    {
     "name": "stdout",
     "output_type": "stream",
     "text": [
      "Highest rating: 4.9\n"
     ]
    }
   ],
   "source": [
    "highest_rating = df['user_rating'].max()\n",
    "print(f\"Highest rating: {highest_rating}\")"
   ]
  },
  {
   "cell_type": "markdown",
   "id": "4f6d2671-a2ad-4d98-99a7-f566e16177ba",
   "metadata": {},
   "source": [
    "### 3.2. How many books have this rating:"
   ]
  },
  {
   "cell_type": "code",
   "execution_count": 12,
   "id": "50be2790-a8c4-4da4-8098-d562a737ea08",
   "metadata": {},
   "outputs": [
    {
     "name": "stdout",
     "output_type": "stream",
     "text": [
      "28 books have the user rating of 4.9\n"
     ]
    }
   ],
   "source": [
    "books_with_highest_rating = df[df['user_rating'] == highest_rating].drop_duplicates(subset=['name'])\n",
    "books_count = books_with_highest_rating.shape[0]\n",
    "print(f\"{books_count} books have the user rating of {highest_rating}\")"
   ]
  },
  {
   "cell_type": "markdown",
   "id": "53778712-1d62-4de8-ac35-2d01c2ddf8e4",
   "metadata": {},
   "source": [
    "### 3.3. Which book has the most reviews:"
   ]
  },
  {
   "cell_type": "code",
   "execution_count": 13,
   "id": "a6a0a1e2-5a37-4aa1-996c-f47499795eb8",
   "metadata": {},
   "outputs": [
    {
     "name": "stdout",
     "output_type": "stream",
     "text": [
      "Book with the most reviews:\n",
      "name           Where the Crawdads Sing\n",
      "author                     Delia Owens\n",
      "user_rating                        4.8\n",
      "reviews                          87841\n",
      "price                               15\n",
      "year                              2019\n",
      "genre                          Fiction\n",
      "Name: 534, dtype: object\n"
     ]
    }
   ],
   "source": [
    "max_reviews_index = df['reviews'].idxmax()\n",
    "book_with_max_reviews = df.loc[max_reviews_index]\n",
    "print(f\"Book with the most reviews:\\n{book_with_max_reviews}\")"
   ]
  },
  {
   "cell_type": "markdown",
   "id": "90228f7f-b4a0-4a27-88c5-4c68db693b53",
   "metadata": {},
   "source": [
    "### 3.4. Of the books that made it to the Top 50 in 2015, which book is the most expensive (you can use an intermediate dataframe):"
   ]
  },
  {
   "cell_type": "code",
   "execution_count": 14,
   "id": "12eab79b-57c0-4a7c-afaa-277b29b13750",
   "metadata": {},
   "outputs": [
    {
     "name": "stdout",
     "output_type": "stream",
     "text": [
      "name           Publication Manual of the American Psychologic...\n",
      "author                        American Psychological Association\n",
      "user_rating                                                  4.5\n",
      "reviews                                                     8580\n",
      "price                                                         46\n",
      "year                                                        2015\n",
      "genre                                                Non Fiction\n",
      "Name: 277, dtype: object\n"
     ]
    }
   ],
   "source": [
    "top_50_2015 = df[(df['year'] == 2015)].nlargest(50, 'price')\n",
    "most_expensive_book_2015 = top_50_2015.iloc[0]\n",
    "print(most_expensive_book_2015)"
   ]
  },
  {
   "cell_type": "markdown",
   "id": "a7056e67-0b75-4da0-b172-52f8710ee189",
   "metadata": {},
   "source": [
    "### 3.5. How many Fiction books were in the Top 50 in 2010 (use &):"
   ]
  },
  {
   "cell_type": "code",
   "execution_count": 15,
   "id": "7e6f0c8a-eea3-47de-adcd-89b20c9cc3d3",
   "metadata": {},
   "outputs": [
    {
     "name": "stdout",
     "output_type": "stream",
     "text": [
      "The number of books in the genre of Fiction that entered the Top 50 in 2010: 20\n"
     ]
    }
   ],
   "source": [
    "top_50_2010_fiction = df[(df['year'] == 2010) & (df['genre'] == 'Fiction')]\n",
    "books_2010_count = top_50_2010_fiction.shape[0]\n",
    "print('The number of books in the genre of Fiction that entered the Top 50 in 2010:', books_2010_count)"
   ]
  },
  {
   "cell_type": "markdown",
   "id": "6399e58b-1307-4c26-81fc-342272e7f73e",
   "metadata": {},
   "source": [
    "### 3.6. How many books rated 4.9 were ranked in 2010 and 2011 (use | or the isin function):"
   ]
  },
  {
   "cell_type": "code",
   "execution_count": 16,
   "id": "bcb69860-e7f0-40fb-8ed5-a475cd553a65",
   "metadata": {},
   "outputs": [
    {
     "name": "stdout",
     "output_type": "stream",
     "text": [
      "The number of books with a rating of 4.9 that entered the rating in 2010 and 2011: 1\n"
     ]
    }
   ],
   "source": [
    "books_rating = df[(df['user_rating'] == 4.9) & ((df['year'] == 2010) | (df['year'] == 2011))]\n",
    "books_rating_count = books_rating.shape[0]\n",
    "print(\"The number of books with a rating of 4.9 that entered the rating in 2010 and 2011:\", books_rating_count)"
   ]
  },
  {
   "cell_type": "markdown",
   "id": "66573386-1aa1-4050-a9ff-1ca60f41197a",
   "metadata": {},
   "source": [
    "### 3.7. And finally, let's sort by increasing price all the books that made the ranking in 2015 and cost less than $8 (use the sort_values function):"
   ]
  },
  {
   "cell_type": "code",
   "execution_count": 17,
   "id": "2868d8bf-268e-4395-b2eb-64f13615820b",
   "metadata": {},
   "outputs": [
    {
     "data": {
      "text/html": [
       "<div>\n",
       "<style scoped>\n",
       "    .dataframe tbody tr th:only-of-type {\n",
       "        vertical-align: middle;\n",
       "    }\n",
       "\n",
       "    .dataframe tbody tr th {\n",
       "        vertical-align: top;\n",
       "    }\n",
       "\n",
       "    .dataframe thead th {\n",
       "        text-align: right;\n",
       "    }\n",
       "</style>\n",
       "<table border=\"1\" class=\"dataframe\">\n",
       "  <thead>\n",
       "    <tr style=\"text-align: right;\">\n",
       "      <th></th>\n",
       "      <th>name</th>\n",
       "      <th>author</th>\n",
       "      <th>user_rating</th>\n",
       "      <th>reviews</th>\n",
       "      <th>price</th>\n",
       "      <th>year</th>\n",
       "      <th>genre</th>\n",
       "    </tr>\n",
       "  </thead>\n",
       "  <tbody>\n",
       "    <tr>\n",
       "      <th>507</th>\n",
       "      <td>To Kill a Mockingbird</td>\n",
       "      <td>Harper Lee</td>\n",
       "      <td>4.8</td>\n",
       "      <td>26234</td>\n",
       "      <td>0</td>\n",
       "      <td>2015</td>\n",
       "      <td>Fiction</td>\n",
       "    </tr>\n",
       "    <tr>\n",
       "      <th>210</th>\n",
       "      <td>Laugh-Out-Loud Jokes for Kids</td>\n",
       "      <td>Rob Elliott</td>\n",
       "      <td>4.6</td>\n",
       "      <td>6990</td>\n",
       "      <td>4</td>\n",
       "      <td>2015</td>\n",
       "      <td>Non Fiction</td>\n",
       "    </tr>\n",
       "    <tr>\n",
       "      <th>206</th>\n",
       "      <td>Knock-Knock Jokes for Kids</td>\n",
       "      <td>Rob Elliott</td>\n",
       "      <td>4.5</td>\n",
       "      <td>3673</td>\n",
       "      <td>4</td>\n",
       "      <td>2015</td>\n",
       "      <td>Non Fiction</td>\n",
       "    </tr>\n",
       "    <tr>\n",
       "      <th>111</th>\n",
       "      <td>First 100 Words</td>\n",
       "      <td>Roger Priddy</td>\n",
       "      <td>4.7</td>\n",
       "      <td>17323</td>\n",
       "      <td>4</td>\n",
       "      <td>2015</td>\n",
       "      <td>Non Fiction</td>\n",
       "    </tr>\n",
       "    <tr>\n",
       "      <th>123</th>\n",
       "      <td>Giraffes Can't Dance</td>\n",
       "      <td>Giles Andreae</td>\n",
       "      <td>4.8</td>\n",
       "      <td>14038</td>\n",
       "      <td>4</td>\n",
       "      <td>2015</td>\n",
       "      <td>Fiction</td>\n",
       "    </tr>\n",
       "    <tr>\n",
       "      <th>54</th>\n",
       "      <td>Creative Haven Creative Cats Coloring Book (Ad...</td>\n",
       "      <td>Marjorie Sarnat</td>\n",
       "      <td>4.8</td>\n",
       "      <td>4022</td>\n",
       "      <td>4</td>\n",
       "      <td>2015</td>\n",
       "      <td>Non Fiction</td>\n",
       "    </tr>\n",
       "    <tr>\n",
       "      <th>63</th>\n",
       "      <td>Dear Zoo: A Lift-the-Flap Book</td>\n",
       "      <td>Rod Campbell</td>\n",
       "      <td>4.8</td>\n",
       "      <td>10922</td>\n",
       "      <td>5</td>\n",
       "      <td>2015</td>\n",
       "      <td>Fiction</td>\n",
       "    </tr>\n",
       "    <tr>\n",
       "      <th>89</th>\n",
       "      <td>Dover Creative Haven Art Nouveau Animal Design...</td>\n",
       "      <td>Marty Noble</td>\n",
       "      <td>4.6</td>\n",
       "      <td>2134</td>\n",
       "      <td>5</td>\n",
       "      <td>2015</td>\n",
       "      <td>Non Fiction</td>\n",
       "    </tr>\n",
       "    <tr>\n",
       "      <th>478</th>\n",
       "      <td>The Very Hungry Caterpillar</td>\n",
       "      <td>Eric Carle</td>\n",
       "      <td>4.9</td>\n",
       "      <td>19546</td>\n",
       "      <td>5</td>\n",
       "      <td>2015</td>\n",
       "      <td>Fiction</td>\n",
       "    </tr>\n",
       "    <tr>\n",
       "      <th>201</th>\n",
       "      <td>Killing Reagan: The Violent Assault That Chang...</td>\n",
       "      <td>Bill O'Reilly</td>\n",
       "      <td>4.6</td>\n",
       "      <td>5235</td>\n",
       "      <td>5</td>\n",
       "      <td>2015</td>\n",
       "      <td>Non Fiction</td>\n",
       "    </tr>\n",
       "    <tr>\n",
       "      <th>28</th>\n",
       "      <td>Baby Touch and Feel: Animals</td>\n",
       "      <td>DK</td>\n",
       "      <td>4.6</td>\n",
       "      <td>5360</td>\n",
       "      <td>5</td>\n",
       "      <td>2015</td>\n",
       "      <td>Non Fiction</td>\n",
       "    </tr>\n",
       "    <tr>\n",
       "      <th>224</th>\n",
       "      <td>Love You Forever</td>\n",
       "      <td>Robert Munsch</td>\n",
       "      <td>4.8</td>\n",
       "      <td>18613</td>\n",
       "      <td>5</td>\n",
       "      <td>2015</td>\n",
       "      <td>Fiction</td>\n",
       "    </tr>\n",
       "    <tr>\n",
       "      <th>55</th>\n",
       "      <td>Creative Haven Owls Coloring Book (Adult Color...</td>\n",
       "      <td>Marjorie Sarnat</td>\n",
       "      <td>4.8</td>\n",
       "      <td>3871</td>\n",
       "      <td>5</td>\n",
       "      <td>2015</td>\n",
       "      <td>Non Fiction</td>\n",
       "    </tr>\n",
       "    <tr>\n",
       "      <th>17</th>\n",
       "      <td>Adult Coloring Book: Stress Relieving Patterns</td>\n",
       "      <td>Blue Star Coloring</td>\n",
       "      <td>4.4</td>\n",
       "      <td>2951</td>\n",
       "      <td>6</td>\n",
       "      <td>2015</td>\n",
       "      <td>Non Fiction</td>\n",
       "    </tr>\n",
       "    <tr>\n",
       "      <th>376</th>\n",
       "      <td>The Four Agreements: A Practical Guide to Pers...</td>\n",
       "      <td>Don Miguel Ruiz</td>\n",
       "      <td>4.7</td>\n",
       "      <td>23308</td>\n",
       "      <td>6</td>\n",
       "      <td>2015</td>\n",
       "      <td>Non Fiction</td>\n",
       "    </tr>\n",
       "    <tr>\n",
       "      <th>16</th>\n",
       "      <td>Adult Coloring Book: Stress Relieving Animal D...</td>\n",
       "      <td>Blue Star Coloring</td>\n",
       "      <td>4.6</td>\n",
       "      <td>2925</td>\n",
       "      <td>6</td>\n",
       "      <td>2015</td>\n",
       "      <td>Non Fiction</td>\n",
       "    </tr>\n",
       "    <tr>\n",
       "      <th>253</th>\n",
       "      <td>Old School (Diary of a Wimpy Kid #10)</td>\n",
       "      <td>Jeff Kinney</td>\n",
       "      <td>4.8</td>\n",
       "      <td>6169</td>\n",
       "      <td>7</td>\n",
       "      <td>2015</td>\n",
       "      <td>Fiction</td>\n",
       "    </tr>\n",
       "  </tbody>\n",
       "</table>\n",
       "</div>"
      ],
      "text/plain": [
       "                                                  name              author  \\\n",
       "507                              To Kill a Mockingbird          Harper Lee   \n",
       "210                      Laugh-Out-Loud Jokes for Kids         Rob Elliott   \n",
       "206                         Knock-Knock Jokes for Kids         Rob Elliott   \n",
       "111                                    First 100 Words        Roger Priddy   \n",
       "123                               Giraffes Can't Dance       Giles Andreae   \n",
       "54   Creative Haven Creative Cats Coloring Book (Ad...     Marjorie Sarnat   \n",
       "63                      Dear Zoo: A Lift-the-Flap Book        Rod Campbell   \n",
       "89   Dover Creative Haven Art Nouveau Animal Design...         Marty Noble   \n",
       "478                        The Very Hungry Caterpillar          Eric Carle   \n",
       "201  Killing Reagan: The Violent Assault That Chang...       Bill O'Reilly   \n",
       "28                        Baby Touch and Feel: Animals                  DK   \n",
       "224                                   Love You Forever       Robert Munsch   \n",
       "55   Creative Haven Owls Coloring Book (Adult Color...     Marjorie Sarnat   \n",
       "17      Adult Coloring Book: Stress Relieving Patterns  Blue Star Coloring   \n",
       "376  The Four Agreements: A Practical Guide to Pers...     Don Miguel Ruiz   \n",
       "16   Adult Coloring Book: Stress Relieving Animal D...  Blue Star Coloring   \n",
       "253              Old School (Diary of a Wimpy Kid #10)         Jeff Kinney   \n",
       "\n",
       "     user_rating  reviews  price  year        genre  \n",
       "507          4.8    26234      0  2015      Fiction  \n",
       "210          4.6     6990      4  2015  Non Fiction  \n",
       "206          4.5     3673      4  2015  Non Fiction  \n",
       "111          4.7    17323      4  2015  Non Fiction  \n",
       "123          4.8    14038      4  2015      Fiction  \n",
       "54           4.8     4022      4  2015  Non Fiction  \n",
       "63           4.8    10922      5  2015      Fiction  \n",
       "89           4.6     2134      5  2015  Non Fiction  \n",
       "478          4.9    19546      5  2015      Fiction  \n",
       "201          4.6     5235      5  2015  Non Fiction  \n",
       "28           4.6     5360      5  2015  Non Fiction  \n",
       "224          4.8    18613      5  2015      Fiction  \n",
       "55           4.8     3871      5  2015  Non Fiction  \n",
       "17           4.4     2951      6  2015  Non Fiction  \n",
       "376          4.7    23308      6  2015  Non Fiction  \n",
       "16           4.6     2925      6  2015  Non Fiction  \n",
       "253          4.8     6169      7  2015      Fiction  "
      ]
     },
     "execution_count": 17,
     "metadata": {},
     "output_type": "execute_result"
    }
   ],
   "source": [
    "books_2015 = df[(df['year'] == 2015) & (df['price'] < 8)]\n",
    "books_2015_sorted = books_2015.sort_values(by='price')\n",
    "books_2015_sorted"
   ]
  },
  {
   "cell_type": "markdown",
   "id": "e24dc52c-e1dc-4716-8391-00127a5a3e4e",
   "metadata": {},
   "source": [
    "### 3.8. Which book is last in the sorted list:"
   ]
  },
  {
   "cell_type": "code",
   "execution_count": 18,
   "id": "2d951cf6-6f92-49a2-bd68-d6818aec2dee",
   "metadata": {},
   "outputs": [
    {
     "data": {
      "text/plain": [
       "name           Old School (Diary of a Wimpy Kid #10)\n",
       "author                                   Jeff Kinney\n",
       "user_rating                                      4.8\n",
       "reviews                                         6169\n",
       "price                                              7\n",
       "year                                            2015\n",
       "genre                                        Fiction\n",
       "Name: 253, dtype: object"
      ]
     },
     "execution_count": 18,
     "metadata": {},
     "output_type": "execute_result"
    }
   ],
   "source": [
    "books_2015_sorted.iloc[-1]"
   ]
  },
  {
   "cell_type": "markdown",
   "id": "286e783d-3fd7-4939-8681-523ed90448da",
   "metadata": {},
   "source": [
    "## 4. Aggregation of data and connection of tables\n",
    "### 4.1. First, let's look at the maximum and minimum prices for each of the genres (use the groupby and agg functions, to calculate the minimum and maximum values, use max and min). Do not take all the columns, select only the ones you need:"
   ]
  },
  {
   "cell_type": "code",
   "execution_count": 19,
   "id": "e6356db2-cb87-4101-ad03-829c3b8daa4a",
   "metadata": {},
   "outputs": [
    {
     "name": "stdout",
     "output_type": "stream",
     "text": [
      "             min  max\n",
      "genre                \n",
      "Fiction        0   82\n",
      "Non Fiction    0  105 \n",
      "\n",
      "Minimal price for a fiction book is 0 USD\n",
      "Minimal price for a non-fiction book is 0 USD\n",
      "Maximum price for a fiction book is 82 USD\n",
      "Maximum price for a non-fiction book is 105 USD\n"
     ]
    }
   ],
   "source": [
    "genre_prices = df.groupby('genre')['price'].agg(['min', 'max'])\n",
    "\n",
    "print(genre_prices, '\\n')\n",
    "\n",
    "print(f\"Minimal price for a fiction book is 0 USD\")\n",
    "print(f\"Minimal price for a non-fiction book is 0 USD\")\n",
    "print(f\"Maximum price for a fiction book is 82 USD\")\n",
    "print(f\"Maximum price for a non-fiction book is 105 USD\")"
   ]
  },
  {
   "cell_type": "markdown",
   "id": "d9efd31d-e41c-4c2d-8e10-7dc05f74a83c",
   "metadata": {},
   "source": [
    "### 4.2. Now create a new dataframe that will hold the number of books for each author (use the groupby and agg functions, use count to count the number). Do not take all the columns, select only the ones you need:"
   ]
  },
  {
   "cell_type": "code",
   "execution_count": 20,
   "id": "281c9839-00e8-4d1e-a258-3768c921a9cd",
   "metadata": {},
   "outputs": [
    {
     "name": "stdout",
     "output_type": "stream",
     "text": [
      "                         author  total_books\n",
      "0              Abraham Verghese            2\n",
      "1                Adam Gasiewski            1\n",
      "2                 Adam Mansbach            1\n",
      "3                     Adir Levy            1\n",
      "4    Admiral William H. McRaven            1\n",
      "..                          ...          ...\n",
      "243             Walter Isaacson            3\n",
      "244               William Davis            2\n",
      "245            William P. Young            2\n",
      "246            Wizards RPG Team            3\n",
      "247                Zhi Gang Sha            2\n",
      "\n",
      "[248 rows x 2 columns] \n",
      "\n",
      "The number of rows and columns: (248, 2)\n",
      "The author who has the most books: \n",
      " author         Zhi Gang Sha\n",
      "total_books              12\n",
      "dtype: object\n"
     ]
    }
   ],
   "source": [
    "author_book_count = df.groupby(\"author\").agg(total_books=(\"name\", \"count\")).reset_index()\n",
    "\n",
    "print(author_book_count, '\\n')\n",
    "print(\"The number of rows and columns:\", author_book_count.shape)\n",
    "print('The author who has the most books: \\n', author_book_count.max())"
   ]
  },
  {
   "cell_type": "markdown",
   "id": "873ef3dc-ef0f-4d31-8ade-56aa9367f548",
   "metadata": {},
   "source": [
    "### 4.3. Now create a second dataframe that will hold the average rating for each author (use the groupby and agg functions, use mean to calculate the average). Do not take all the columns, select only the ones you need:"
   ]
  },
  {
   "cell_type": "code",
   "execution_count": 21,
   "id": "39737691-ed69-4629-989f-7b59d627f36e",
   "metadata": {},
   "outputs": [
    {
     "data": {
      "text/html": [
       "<div>\n",
       "<style scoped>\n",
       "    .dataframe tbody tr th:only-of-type {\n",
       "        vertical-align: middle;\n",
       "    }\n",
       "\n",
       "    .dataframe tbody tr th {\n",
       "        vertical-align: top;\n",
       "    }\n",
       "\n",
       "    .dataframe thead th {\n",
       "        text-align: right;\n",
       "    }\n",
       "</style>\n",
       "<table border=\"1\" class=\"dataframe\">\n",
       "  <thead>\n",
       "    <tr style=\"text-align: right;\">\n",
       "      <th></th>\n",
       "      <th>author</th>\n",
       "      <th>average_rating</th>\n",
       "    </tr>\n",
       "  </thead>\n",
       "  <tbody>\n",
       "    <tr>\n",
       "      <th>0</th>\n",
       "      <td>Abraham Verghese</td>\n",
       "      <td>4.600</td>\n",
       "    </tr>\n",
       "    <tr>\n",
       "      <th>1</th>\n",
       "      <td>Adam Gasiewski</td>\n",
       "      <td>4.400</td>\n",
       "    </tr>\n",
       "    <tr>\n",
       "      <th>2</th>\n",
       "      <td>Adam Mansbach</td>\n",
       "      <td>4.800</td>\n",
       "    </tr>\n",
       "    <tr>\n",
       "      <th>3</th>\n",
       "      <td>Adir Levy</td>\n",
       "      <td>4.800</td>\n",
       "    </tr>\n",
       "    <tr>\n",
       "      <th>4</th>\n",
       "      <td>Admiral William H. McRaven</td>\n",
       "      <td>4.700</td>\n",
       "    </tr>\n",
       "    <tr>\n",
       "      <th>...</th>\n",
       "      <td>...</td>\n",
       "      <td>...</td>\n",
       "    </tr>\n",
       "    <tr>\n",
       "      <th>243</th>\n",
       "      <td>Walter Isaacson</td>\n",
       "      <td>4.567</td>\n",
       "    </tr>\n",
       "    <tr>\n",
       "      <th>244</th>\n",
       "      <td>William Davis</td>\n",
       "      <td>4.400</td>\n",
       "    </tr>\n",
       "    <tr>\n",
       "      <th>245</th>\n",
       "      <td>William P. Young</td>\n",
       "      <td>4.600</td>\n",
       "    </tr>\n",
       "    <tr>\n",
       "      <th>246</th>\n",
       "      <td>Wizards RPG Team</td>\n",
       "      <td>4.800</td>\n",
       "    </tr>\n",
       "    <tr>\n",
       "      <th>247</th>\n",
       "      <td>Zhi Gang Sha</td>\n",
       "      <td>4.600</td>\n",
       "    </tr>\n",
       "  </tbody>\n",
       "</table>\n",
       "<p>248 rows × 2 columns</p>\n",
       "</div>"
      ],
      "text/plain": [
       "                         author  average_rating\n",
       "0              Abraham Verghese           4.600\n",
       "1                Adam Gasiewski           4.400\n",
       "2                 Adam Mansbach           4.800\n",
       "3                     Adir Levy           4.800\n",
       "4    Admiral William H. McRaven           4.700\n",
       "..                          ...             ...\n",
       "243             Walter Isaacson           4.567\n",
       "244               William Davis           4.400\n",
       "245            William P. Young           4.600\n",
       "246            Wizards RPG Team           4.800\n",
       "247                Zhi Gang Sha           4.600\n",
       "\n",
       "[248 rows x 2 columns]"
      ]
     },
     "execution_count": 21,
     "metadata": {},
     "output_type": "execute_result"
    }
   ],
   "source": [
    "avg_rating_author = round(df.groupby(\"author\").agg(average_rating=(\"user_rating\", \"mean\")).reset_index(), 3)\n",
    "\n",
    "avg_rating_author"
   ]
  },
  {
   "cell_type": "markdown",
   "id": "efe85978-ce7f-4a93-8837-ed0fd43c65dc",
   "metadata": {},
   "source": [
    "### 4.4. Which author has the lowest average rating:"
   ]
  },
  {
   "cell_type": "code",
   "execution_count": 22,
   "id": "62b0d121-c0b0-47ed-a239-2fe33b4af8ff",
   "metadata": {},
   "outputs": [
    {
     "name": "stdout",
     "output_type": "stream",
     "text": [
      "author            Donna Tartt\n",
      "average_rating            3.9\n",
      "Name: 71, dtype: object\n"
     ]
    }
   ],
   "source": [
    "min_avg_rating_author = avg_rating_author.loc[avg_rating_author[\"average_rating\"].idxmin()]\n",
    "print(min_avg_rating_author)"
   ]
  },
  {
   "cell_type": "markdown",
   "id": "c10e3457-ff38-4d94-9f60-c70737ace1e1",
   "metadata": {},
   "source": [
    "### 4.5. What is the average rating of this author:"
   ]
  },
  {
   "cell_type": "code",
   "execution_count": 23,
   "id": "ad095d9b-8645-4863-9e93-19c13bf01463",
   "metadata": {},
   "outputs": [
    {
     "name": "stdout",
     "output_type": "stream",
     "text": [
      "3.9\n"
     ]
    }
   ],
   "source": [
    "print(min_avg_rating_author[\"average_rating\"])"
   ]
  },
  {
   "cell_type": "markdown",
   "id": "82ab201a-a27b-4e16-b98c-c444a8685bed",
   "metadata": {},
   "source": [
    "### 4.6. Concatenate the last two dataframes so that the number of books and the average rating are visible for each author (use the concat function with axis=1). Save the result to a variable. Sort the dataframe by increasing number of books and increasing rating (use the sort_values function):"
   ]
  },
  {
   "cell_type": "code",
   "execution_count": 24,
   "id": "f526b70c-009c-412a-b9a2-6e91ddec42a9",
   "metadata": {},
   "outputs": [
    {
     "data": {
      "text/html": [
       "<div>\n",
       "<style scoped>\n",
       "    .dataframe tbody tr th:only-of-type {\n",
       "        vertical-align: middle;\n",
       "    }\n",
       "\n",
       "    .dataframe tbody tr th {\n",
       "        vertical-align: top;\n",
       "    }\n",
       "\n",
       "    .dataframe thead th {\n",
       "        text-align: right;\n",
       "    }\n",
       "</style>\n",
       "<table border=\"1\" class=\"dataframe\">\n",
       "  <thead>\n",
       "    <tr style=\"text-align: right;\">\n",
       "      <th></th>\n",
       "      <th>author</th>\n",
       "      <th>average_rating</th>\n",
       "      <th>total_books</th>\n",
       "    </tr>\n",
       "  </thead>\n",
       "  <tbody>\n",
       "    <tr>\n",
       "      <th>0</th>\n",
       "      <td>Donna Tartt</td>\n",
       "      <td>3.9</td>\n",
       "      <td>2</td>\n",
       "    </tr>\n",
       "    <tr>\n",
       "      <th>1</th>\n",
       "      <td>Muriel Barbery</td>\n",
       "      <td>4.0</td>\n",
       "      <td>1</td>\n",
       "    </tr>\n",
       "    <tr>\n",
       "      <th>2</th>\n",
       "      <td>Gillian Flynn</td>\n",
       "      <td>4.0</td>\n",
       "      <td>3</td>\n",
       "    </tr>\n",
       "    <tr>\n",
       "      <th>3</th>\n",
       "      <td>Gallup</td>\n",
       "      <td>4.0</td>\n",
       "      <td>9</td>\n",
       "    </tr>\n",
       "    <tr>\n",
       "      <th>4</th>\n",
       "      <td>Chris Cleave</td>\n",
       "      <td>4.1</td>\n",
       "      <td>1</td>\n",
       "    </tr>\n",
       "    <tr>\n",
       "      <th>5</th>\n",
       "      <td>Ian K. Smith M.D.</td>\n",
       "      <td>4.1</td>\n",
       "      <td>1</td>\n",
       "    </tr>\n",
       "    <tr>\n",
       "      <th>6</th>\n",
       "      <td>Pierre Dukan</td>\n",
       "      <td>4.1</td>\n",
       "      <td>1</td>\n",
       "    </tr>\n",
       "    <tr>\n",
       "      <th>7</th>\n",
       "      <td>Paula Hawkins</td>\n",
       "      <td>4.1</td>\n",
       "      <td>2</td>\n",
       "    </tr>\n",
       "    <tr>\n",
       "      <th>8</th>\n",
       "      <td>Elizabeth Strout</td>\n",
       "      <td>4.2</td>\n",
       "      <td>1</td>\n",
       "    </tr>\n",
       "    <tr>\n",
       "      <th>9</th>\n",
       "      <td>Geneen Roth</td>\n",
       "      <td>4.2</td>\n",
       "      <td>1</td>\n",
       "    </tr>\n",
       "  </tbody>\n",
       "</table>\n",
       "</div>"
      ],
      "text/plain": [
       "              author  average_rating  total_books\n",
       "0        Donna Tartt             3.9            2\n",
       "1     Muriel Barbery             4.0            1\n",
       "2      Gillian Flynn             4.0            3\n",
       "3             Gallup             4.0            9\n",
       "4       Chris Cleave             4.1            1\n",
       "5  Ian K. Smith M.D.             4.1            1\n",
       "6       Pierre Dukan             4.1            1\n",
       "7      Paula Hawkins             4.1            2\n",
       "8   Elizabeth Strout             4.2            1\n",
       "9        Geneen Roth             4.2            1"
      ]
     },
     "execution_count": 24,
     "metadata": {},
     "output_type": "execute_result"
    }
   ],
   "source": [
    "df_concatenated = pd.concat([avg_rating_author.set_index(\"author\"), author_book_count.set_index(\"author\")], axis=1, join=\"inner\").sort_values(by=[\"average_rating\", \"total_books\"], ascending=[True, True]).reset_index()\n",
    "df_concatenated.head(10)"
   ]
  },
  {
   "cell_type": "markdown",
   "id": "d72e5a12-fb8e-4fc9-86d4-ad2affd03ead",
   "metadata": {},
   "source": [
    "### 4.7. Which author is first on the list:"
   ]
  },
  {
   "cell_type": "code",
   "execution_count": 25,
   "id": "a0071e68-5215-4f83-b860-fedec83c4197",
   "metadata": {},
   "outputs": [
    {
     "data": {
      "text/plain": [
       "'Donna Tartt'"
      ]
     },
     "execution_count": 25,
     "metadata": {},
     "output_type": "execute_result"
    }
   ],
   "source": [
    "df_concatenated['author'][0]"
   ]
  },
  {
   "cell_type": "markdown",
   "id": "2f5a1a36-b9e9-46b5-b295-7a4c0872a75a",
   "metadata": {},
   "source": [
    "## Visualization"
   ]
  },
  {
   "cell_type": "code",
   "execution_count": 26,
   "id": "83a0fe52-4382-4b45-b1ca-0888a33c364d",
   "metadata": {},
   "outputs": [
    {
     "data": {
      "image/png": "[encoded data removed]",
      "text/plain": [
       "<Figure size 800x400 with 1 Axes>"
      ]
     },
     "metadata": {},
     "output_type": "display_data"
    }
   ],
   "source": [
    "%matplotlib inline\n",
    "\n",
    "df_concatenated['average_rating'].plot(kind='line', figsize=(8, 4), title='Average_rating')\n",
    "plt.xlabel('Authors count')\n",
    "plt.ylabel('Rating')\n",
    "plt.grid()\n",
    "plt.gca().spines[['top', 'right']].set_visible(True)"
   ]
  },
  {
   "cell_type": "code",
   "execution_count": 27,
   "id": "ce689909-dc98-4048-bcde-3ec22426018d",
   "metadata": {},
   "outputs": [
    {
     "data": {
      "image/png": "[encoded data removed]",
      "text/plain": [
       "<Figure size 1000x1000 with 1 Axes>"
      ]
     },
     "metadata": {},
     "output_type": "display_data"
    }
   ],
   "source": [
    "unique_books = df.drop_duplicates(subset=['name'])\n",
    "top_10_books = unique_books.nlargest(10, 'reviews')\n",
    "\n",
    "plt.figure(figsize=(10, 10))\n",
    "plt.pie(top_10_books['reviews'], labels=top_10_books['name'] + ' by ' + top_10_books['author'], autopct='%1.1f%%')\n",
    "plt.title('Top 10 books by number of reviews')\n",
    "plt.show()"
   ]
  }
 ],
 "metadata": {
  "kernelspec": {
   "display_name": "Python 3 (ipykernel)",
   "language": "python",
   "name": "python3"
  },
  "language_info": {
   "codemirror_mode": {
    "name": "ipython",
    "version": 3
   },
   "file_extension": ".py",
   "mimetype": "text/x-python",
   "name": "python",
   "nbconvert_exporter": "python",
   "pygments_lexer": "ipython3",
   "version": "3.11.4"
  }
 },
 "nbformat": 4,
 "nbformat_minor": 5
}
